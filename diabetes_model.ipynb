{
  "nbformat": 4,
  "nbformat_minor": 0,
  "metadata": {
    "colab": {
      "provenance": []
    },
    "kernelspec": {
      "name": "python3",
      "display_name": "Python 3"
    },
    "language_info": {
      "name": "python"
    }
  },
  "cells": [
    {
      "cell_type": "code",
      "source": [
        "!pip install -U imbalanced-learn"
      ],
      "metadata": {
        "colab": {
          "base_uri": "https://localhost:8080/"
        },
        "id": "OP5LVVCLn1bE",
        "outputId": "08b56c13-2dcd-4221-e48c-136156fbec6d"
      },
      "execution_count": null,
      "outputs": [
        {
          "output_type": "stream",
          "name": "stdout",
          "text": [
            "Requirement already satisfied: imbalanced-learn in /usr/local/lib/python3.10/dist-packages (0.12.2)\n",
            "Requirement already satisfied: numpy>=1.17.3 in /usr/local/lib/python3.10/dist-packages (from imbalanced-learn) (1.25.2)\n",
            "Requirement already satisfied: scipy>=1.5.0 in /usr/local/lib/python3.10/dist-packages (from imbalanced-learn) (1.11.4)\n",
            "Requirement already satisfied: scikit-learn>=1.0.2 in /usr/local/lib/python3.10/dist-packages (from imbalanced-learn) (1.2.2)\n",
            "Requirement already satisfied: joblib>=1.1.1 in /usr/local/lib/python3.10/dist-packages (from imbalanced-learn) (1.4.2)\n",
            "Requirement already satisfied: threadpoolctl>=2.0.0 in /usr/local/lib/python3.10/dist-packages (from imbalanced-learn) (3.5.0)\n"
          ]
        }
      ]
    },
    {
      "cell_type": "code",
      "execution_count": null,
      "metadata": {
        "id": "sD2fceVUk1ha"
      },
      "outputs": [],
      "source": [
        "import numpy as np\n",
        "import pandas as pd\n",
        "import matplotlib.pyplot as plt\n",
        "from sklearn.model_selection import train_test_split\n",
        "from sklearn.preprocessing import StandardScaler\n",
        "import tensorflow as tf\n",
        "import tensorflow_hub as hub\n",
        "from imblearn.over_sampling import RandomOverSampler"
      ]
    },
    {
      "cell_type": "code",
      "source": [
        "df = pd.read_csv('diabetes.csv')"
      ],
      "metadata": {
        "id": "49U6LNwXk9FL"
      },
      "execution_count": null,
      "outputs": []
    },
    {
      "cell_type": "code",
      "source": [
        "df.head()"
      ],
      "metadata": {
        "colab": {
          "base_uri": "https://localhost:8080/",
          "height": 204
        },
        "id": "paR7L5f2la08",
        "outputId": "de4de72c-95c0-425a-f2aa-d31346beadac"
      },
      "execution_count": null,
      "outputs": [
        {
          "output_type": "execute_result",
          "data": {
            "text/plain": [
              "   Pregnancies  Glucose  BloodPressure  SkinThickness  Insulin   BMI  \\\n",
              "0            6      148             72             35        0  33.6   \n",
              "1            1       85             66             29        0  26.6   \n",
              "2            8      183             64              0        0  23.3   \n",
              "3            1       89             66             23       94  28.1   \n",
              "4            0      137             40             35      168  43.1   \n",
              "\n",
              "   DiabetesPedigreeFunction  Age  Outcome  \n",
              "0                     0.627   50        1  \n",
              "1                     0.351   31        0  \n",
              "2                     0.672   32        1  \n",
              "3                     0.167   21        0  \n",
              "4                     2.288   33        1  "
            ],
            "text/html": [
              "\n",
              "  <div id=\"df-105870f8-d43b-4e17-aada-2e9d1533c403\" class=\"colab-df-container\">\n",
              "    <div>\n",
              "<style scoped>\n",
              "    .dataframe tbody tr th:only-of-type {\n",
              "        vertical-align: middle;\n",
              "    }\n",
              "\n",
              "    .dataframe tbody tr th {\n",
              "        vertical-align: top;\n",
              "    }\n",
              "\n",
              "    .dataframe thead th {\n",
              "        text-align: right;\n",
              "    }\n",
              "</style>\n",
              "<table border=\"1\" class=\"dataframe\">\n",
              "  <thead>\n",
              "    <tr style=\"text-align: right;\">\n",
              "      <th></th>\n",
              "      <th>Pregnancies</th>\n",
              "      <th>Glucose</th>\n",
              "      <th>BloodPressure</th>\n",
              "      <th>SkinThickness</th>\n",
              "      <th>Insulin</th>\n",
              "      <th>BMI</th>\n",
              "      <th>DiabetesPedigreeFunction</th>\n",
              "      <th>Age</th>\n",
              "      <th>Outcome</th>\n",
              "    </tr>\n",
              "  </thead>\n",
              "  <tbody>\n",
              "    <tr>\n",
              "      <th>0</th>\n",
              "      <td>6</td>\n",
              "      <td>148</td>\n",
              "      <td>72</td>\n",
              "      <td>35</td>\n",
              "      <td>0</td>\n",
              "      <td>33.6</td>\n",
              "      <td>0.627</td>\n",
              "      <td>50</td>\n",
              "      <td>1</td>\n",
              "    </tr>\n",
              "    <tr>\n",
              "      <th>1</th>\n",
              "      <td>1</td>\n",
              "      <td>85</td>\n",
              "      <td>66</td>\n",
              "      <td>29</td>\n",
              "      <td>0</td>\n",
              "      <td>26.6</td>\n",
              "      <td>0.351</td>\n",
              "      <td>31</td>\n",
              "      <td>0</td>\n",
              "    </tr>\n",
              "    <tr>\n",
              "      <th>2</th>\n",
              "      <td>8</td>\n",
              "      <td>183</td>\n",
              "      <td>64</td>\n",
              "      <td>0</td>\n",
              "      <td>0</td>\n",
              "      <td>23.3</td>\n",
              "      <td>0.672</td>\n",
              "      <td>32</td>\n",
              "      <td>1</td>\n",
              "    </tr>\n",
              "    <tr>\n",
              "      <th>3</th>\n",
              "      <td>1</td>\n",
              "      <td>89</td>\n",
              "      <td>66</td>\n",
              "      <td>23</td>\n",
              "      <td>94</td>\n",
              "      <td>28.1</td>\n",
              "      <td>0.167</td>\n",
              "      <td>21</td>\n",
              "      <td>0</td>\n",
              "    </tr>\n",
              "    <tr>\n",
              "      <th>4</th>\n",
              "      <td>0</td>\n",
              "      <td>137</td>\n",
              "      <td>40</td>\n",
              "      <td>35</td>\n",
              "      <td>168</td>\n",
              "      <td>43.1</td>\n",
              "      <td>2.288</td>\n",
              "      <td>33</td>\n",
              "      <td>1</td>\n",
              "    </tr>\n",
              "  </tbody>\n",
              "</table>\n",
              "</div>\n",
              "    <div class=\"colab-df-buttons\">\n",
              "\n",
              "  <div class=\"colab-df-container\">\n",
              "    <button class=\"colab-df-convert\" onclick=\"convertToInteractive('df-105870f8-d43b-4e17-aada-2e9d1533c403')\"\n",
              "            title=\"Convert this dataframe to an interactive table.\"\n",
              "            style=\"display:none;\">\n",
              "\n",
              "  <svg xmlns=\"http://www.w3.org/2000/svg\" height=\"24px\" viewBox=\"0 -960 960 960\">\n",
              "    <path d=\"M120-120v-720h720v720H120Zm60-500h600v-160H180v160Zm220 220h160v-160H400v160Zm0 220h160v-160H400v160ZM180-400h160v-160H180v160Zm440 0h160v-160H620v160ZM180-180h160v-160H180v160Zm440 0h160v-160H620v160Z\"/>\n",
              "  </svg>\n",
              "    </button>\n",
              "\n",
              "  <style>\n",
              "    .colab-df-container {\n",
              "      display:flex;\n",
              "      gap: 12px;\n",
              "    }\n",
              "\n",
              "    .colab-df-convert {\n",
              "      background-color: #E8F0FE;\n",
              "      border: none;\n",
              "      border-radius: 50%;\n",
              "      cursor: pointer;\n",
              "      display: none;\n",
              "      fill: #1967D2;\n",
              "      height: 32px;\n",
              "      padding: 0 0 0 0;\n",
              "      width: 32px;\n",
              "    }\n",
              "\n",
              "    .colab-df-convert:hover {\n",
              "      background-color: #E2EBFA;\n",
              "      box-shadow: 0px 1px 2px rgba(60, 64, 67, 0.3), 0px 1px 3px 1px rgba(60, 64, 67, 0.15);\n",
              "      fill: #174EA6;\n",
              "    }\n",
              "\n",
              "    .colab-df-buttons div {\n",
              "      margin-bottom: 4px;\n",
              "    }\n",
              "\n",
              "    [theme=dark] .colab-df-convert {\n",
              "      background-color: #3B4455;\n",
              "      fill: #D2E3FC;\n",
              "    }\n",
              "\n",
              "    [theme=dark] .colab-df-convert:hover {\n",
              "      background-color: #434B5C;\n",
              "      box-shadow: 0px 1px 3px 1px rgba(0, 0, 0, 0.15);\n",
              "      filter: drop-shadow(0px 1px 2px rgba(0, 0, 0, 0.3));\n",
              "      fill: #FFFFFF;\n",
              "    }\n",
              "  </style>\n",
              "\n",
              "    <script>\n",
              "      const buttonEl =\n",
              "        document.querySelector('#df-105870f8-d43b-4e17-aada-2e9d1533c403 button.colab-df-convert');\n",
              "      buttonEl.style.display =\n",
              "        google.colab.kernel.accessAllowed ? 'block' : 'none';\n",
              "\n",
              "      async function convertToInteractive(key) {\n",
              "        const element = document.querySelector('#df-105870f8-d43b-4e17-aada-2e9d1533c403');\n",
              "        const dataTable =\n",
              "          await google.colab.kernel.invokeFunction('convertToInteractive',\n",
              "                                                    [key], {});\n",
              "        if (!dataTable) return;\n",
              "\n",
              "        const docLinkHtml = 'Like what you see? Visit the ' +\n",
              "          '<a target=\"_blank\" href=https://colab.research.google.com/notebooks/data_table.ipynb>data table notebook</a>'\n",
              "          + ' to learn more about interactive tables.';\n",
              "        element.innerHTML = '';\n",
              "        dataTable['output_type'] = 'display_data';\n",
              "        await google.colab.output.renderOutput(dataTable, element);\n",
              "        const docLink = document.createElement('div');\n",
              "        docLink.innerHTML = docLinkHtml;\n",
              "        element.appendChild(docLink);\n",
              "      }\n",
              "    </script>\n",
              "  </div>\n",
              "\n",
              "\n",
              "<div id=\"df-d8de14eb-f2a2-45c8-9b35-10d74b388c31\">\n",
              "  <button class=\"colab-df-quickchart\" onclick=\"quickchart('df-d8de14eb-f2a2-45c8-9b35-10d74b388c31')\"\n",
              "            title=\"Suggest charts\"\n",
              "            style=\"display:none;\">\n",
              "\n",
              "<svg xmlns=\"http://www.w3.org/2000/svg\" height=\"24px\"viewBox=\"0 0 24 24\"\n",
              "     width=\"24px\">\n",
              "    <g>\n",
              "        <path d=\"M19 3H5c-1.1 0-2 .9-2 2v14c0 1.1.9 2 2 2h14c1.1 0 2-.9 2-2V5c0-1.1-.9-2-2-2zM9 17H7v-7h2v7zm4 0h-2V7h2v10zm4 0h-2v-4h2v4z\"/>\n",
              "    </g>\n",
              "</svg>\n",
              "  </button>\n",
              "\n",
              "<style>\n",
              "  .colab-df-quickchart {\n",
              "      --bg-color: #E8F0FE;\n",
              "      --fill-color: #1967D2;\n",
              "      --hover-bg-color: #E2EBFA;\n",
              "      --hover-fill-color: #174EA6;\n",
              "      --disabled-fill-color: #AAA;\n",
              "      --disabled-bg-color: #DDD;\n",
              "  }\n",
              "\n",
              "  [theme=dark] .colab-df-quickchart {\n",
              "      --bg-color: #3B4455;\n",
              "      --fill-color: #D2E3FC;\n",
              "      --hover-bg-color: #434B5C;\n",
              "      --hover-fill-color: #FFFFFF;\n",
              "      --disabled-bg-color: #3B4455;\n",
              "      --disabled-fill-color: #666;\n",
              "  }\n",
              "\n",
              "  .colab-df-quickchart {\n",
              "    background-color: var(--bg-color);\n",
              "    border: none;\n",
              "    border-radius: 50%;\n",
              "    cursor: pointer;\n",
              "    display: none;\n",
              "    fill: var(--fill-color);\n",
              "    height: 32px;\n",
              "    padding: 0;\n",
              "    width: 32px;\n",
              "  }\n",
              "\n",
              "  .colab-df-quickchart:hover {\n",
              "    background-color: var(--hover-bg-color);\n",
              "    box-shadow: 0 1px 2px rgba(60, 64, 67, 0.3), 0 1px 3px 1px rgba(60, 64, 67, 0.15);\n",
              "    fill: var(--button-hover-fill-color);\n",
              "  }\n",
              "\n",
              "  .colab-df-quickchart-complete:disabled,\n",
              "  .colab-df-quickchart-complete:disabled:hover {\n",
              "    background-color: var(--disabled-bg-color);\n",
              "    fill: var(--disabled-fill-color);\n",
              "    box-shadow: none;\n",
              "  }\n",
              "\n",
              "  .colab-df-spinner {\n",
              "    border: 2px solid var(--fill-color);\n",
              "    border-color: transparent;\n",
              "    border-bottom-color: var(--fill-color);\n",
              "    animation:\n",
              "      spin 1s steps(1) infinite;\n",
              "  }\n",
              "\n",
              "  @keyframes spin {\n",
              "    0% {\n",
              "      border-color: transparent;\n",
              "      border-bottom-color: var(--fill-color);\n",
              "      border-left-color: var(--fill-color);\n",
              "    }\n",
              "    20% {\n",
              "      border-color: transparent;\n",
              "      border-left-color: var(--fill-color);\n",
              "      border-top-color: var(--fill-color);\n",
              "    }\n",
              "    30% {\n",
              "      border-color: transparent;\n",
              "      border-left-color: var(--fill-color);\n",
              "      border-top-color: var(--fill-color);\n",
              "      border-right-color: var(--fill-color);\n",
              "    }\n",
              "    40% {\n",
              "      border-color: transparent;\n",
              "      border-right-color: var(--fill-color);\n",
              "      border-top-color: var(--fill-color);\n",
              "    }\n",
              "    60% {\n",
              "      border-color: transparent;\n",
              "      border-right-color: var(--fill-color);\n",
              "    }\n",
              "    80% {\n",
              "      border-color: transparent;\n",
              "      border-right-color: var(--fill-color);\n",
              "      border-bottom-color: var(--fill-color);\n",
              "    }\n",
              "    90% {\n",
              "      border-color: transparent;\n",
              "      border-bottom-color: var(--fill-color);\n",
              "    }\n",
              "  }\n",
              "</style>\n",
              "\n",
              "  <script>\n",
              "    async function quickchart(key) {\n",
              "      const quickchartButtonEl =\n",
              "        document.querySelector('#' + key + ' button');\n",
              "      quickchartButtonEl.disabled = true;  // To prevent multiple clicks.\n",
              "      quickchartButtonEl.classList.add('colab-df-spinner');\n",
              "      try {\n",
              "        const charts = await google.colab.kernel.invokeFunction(\n",
              "            'suggestCharts', [key], {});\n",
              "      } catch (error) {\n",
              "        console.error('Error during call to suggestCharts:', error);\n",
              "      }\n",
              "      quickchartButtonEl.classList.remove('colab-df-spinner');\n",
              "      quickchartButtonEl.classList.add('colab-df-quickchart-complete');\n",
              "    }\n",
              "    (() => {\n",
              "      let quickchartButtonEl =\n",
              "        document.querySelector('#df-d8de14eb-f2a2-45c8-9b35-10d74b388c31 button');\n",
              "      quickchartButtonEl.style.display =\n",
              "        google.colab.kernel.accessAllowed ? 'block' : 'none';\n",
              "    })();\n",
              "  </script>\n",
              "</div>\n",
              "    </div>\n",
              "  </div>\n"
            ],
            "application/vnd.google.colaboratory.intrinsic+json": {
              "type": "dataframe",
              "variable_name": "df",
              "summary": "{\n  \"name\": \"df\",\n  \"rows\": 768,\n  \"fields\": [\n    {\n      \"column\": \"Pregnancies\",\n      \"properties\": {\n        \"dtype\": \"number\",\n        \"std\": 3,\n        \"min\": 0,\n        \"max\": 17,\n        \"num_unique_values\": 17,\n        \"samples\": [\n          6,\n          1,\n          3\n        ],\n        \"semantic_type\": \"\",\n        \"description\": \"\"\n      }\n    },\n    {\n      \"column\": \"Glucose\",\n      \"properties\": {\n        \"dtype\": \"number\",\n        \"std\": 31,\n        \"min\": 0,\n        \"max\": 199,\n        \"num_unique_values\": 136,\n        \"samples\": [\n          151,\n          101,\n          112\n        ],\n        \"semantic_type\": \"\",\n        \"description\": \"\"\n      }\n    },\n    {\n      \"column\": \"BloodPressure\",\n      \"properties\": {\n        \"dtype\": \"number\",\n        \"std\": 19,\n        \"min\": 0,\n        \"max\": 122,\n        \"num_unique_values\": 47,\n        \"samples\": [\n          86,\n          46,\n          85\n        ],\n        \"semantic_type\": \"\",\n        \"description\": \"\"\n      }\n    },\n    {\n      \"column\": \"SkinThickness\",\n      \"properties\": {\n        \"dtype\": \"number\",\n        \"std\": 15,\n        \"min\": 0,\n        \"max\": 99,\n        \"num_unique_values\": 51,\n        \"samples\": [\n          7,\n          12,\n          48\n        ],\n        \"semantic_type\": \"\",\n        \"description\": \"\"\n      }\n    },\n    {\n      \"column\": \"Insulin\",\n      \"properties\": {\n        \"dtype\": \"number\",\n        \"std\": 115,\n        \"min\": 0,\n        \"max\": 846,\n        \"num_unique_values\": 186,\n        \"samples\": [\n          52,\n          41,\n          183\n        ],\n        \"semantic_type\": \"\",\n        \"description\": \"\"\n      }\n    },\n    {\n      \"column\": \"BMI\",\n      \"properties\": {\n        \"dtype\": \"number\",\n        \"std\": 7.884160320375446,\n        \"min\": 0.0,\n        \"max\": 67.1,\n        \"num_unique_values\": 248,\n        \"samples\": [\n          19.9,\n          31.0,\n          38.1\n        ],\n        \"semantic_type\": \"\",\n        \"description\": \"\"\n      }\n    },\n    {\n      \"column\": \"DiabetesPedigreeFunction\",\n      \"properties\": {\n        \"dtype\": \"number\",\n        \"std\": 0.3313285950127749,\n        \"min\": 0.078,\n        \"max\": 2.42,\n        \"num_unique_values\": 517,\n        \"samples\": [\n          1.731,\n          0.426,\n          0.138\n        ],\n        \"semantic_type\": \"\",\n        \"description\": \"\"\n      }\n    },\n    {\n      \"column\": \"Age\",\n      \"properties\": {\n        \"dtype\": \"number\",\n        \"std\": 11,\n        \"min\": 21,\n        \"max\": 81,\n        \"num_unique_values\": 52,\n        \"samples\": [\n          60,\n          47,\n          72\n        ],\n        \"semantic_type\": \"\",\n        \"description\": \"\"\n      }\n    },\n    {\n      \"column\": \"Outcome\",\n      \"properties\": {\n        \"dtype\": \"number\",\n        \"std\": 0,\n        \"min\": 0,\n        \"max\": 1,\n        \"num_unique_values\": 2,\n        \"samples\": [\n          0,\n          1\n        ],\n        \"semantic_type\": \"\",\n        \"description\": \"\"\n      }\n    }\n  ]\n}"
            }
          },
          "metadata": {},
          "execution_count": 23
        }
      ]
    },
    {
      "cell_type": "code",
      "source": [
        "df.columns"
      ],
      "metadata": {
        "colab": {
          "base_uri": "https://localhost:8080/"
        },
        "id": "s2IX1SRjl28W",
        "outputId": "8573a4c8-0cee-415d-a087-6304300b31a0"
      },
      "execution_count": null,
      "outputs": [
        {
          "output_type": "execute_result",
          "data": {
            "text/plain": [
              "Index(['Pregnancies', 'Glucose', 'BloodPressure', 'SkinThickness', 'Insulin',\n",
              "       'BMI', 'DiabetesPedigreeFunction', 'Age', 'Outcome'],\n",
              "      dtype='object')"
            ]
          },
          "metadata": {},
          "execution_count": 24
        }
      ]
    },
    {
      "cell_type": "code",
      "source": [
        "len(df[df['Outcome'] ==1]), len(df[df['Outcome']==0])"
      ],
      "metadata": {
        "colab": {
          "base_uri": "https://localhost:8080/"
        },
        "id": "nkGp3sygmOHp",
        "outputId": "9a5804be-ad51-4ec4-b8a6-2b5ffea6d312"
      },
      "execution_count": null,
      "outputs": [
        {
          "output_type": "execute_result",
          "data": {
            "text/plain": [
              "(268, 500)"
            ]
          },
          "metadata": {},
          "execution_count": 25
        }
      ]
    },
    {
      "cell_type": "code",
      "source": [
        "x= df[df.columns[:-1]].values\n",
        "y = df[df.columns[-1]].values"
      ],
      "metadata": {
        "id": "ABknHaXXebwy"
      },
      "execution_count": null,
      "outputs": []
    },
    {
      "cell_type": "code",
      "source": [
        "scaler = StandardScaler()\n",
        "x = scaler.fit_transform(x)\n",
        "data = np.hstack((x, np.reshape(y,(-1, 1))))\n",
        "transformed_df = pd.DataFrame(data, columns = df.columns)"
      ],
      "metadata": {
        "id": "dKSilwhXmCtG"
      },
      "execution_count": null,
      "outputs": []
    },
    {
      "cell_type": "code",
      "source": [
        "over = RandomOverSampler()\n",
        "x, y = over.fit_resample(x, y)\n",
        "data = np.hstack((x, np.reshape(y,(-1, 1))))\n",
        "transformed_df = pd.DataFrame(data, columns = df.columns)"
      ],
      "metadata": {
        "id": "UccEXdsfneI7"
      },
      "execution_count": null,
      "outputs": []
    },
    {
      "cell_type": "code",
      "source": [
        "len(transformed_df[transformed_df[\"Outcome\"] == 1]), len(transformed_df[transformed_df[\"Outcome\"] == 0])"
      ],
      "metadata": {
        "colab": {
          "base_uri": "https://localhost:8080/"
        },
        "id": "bekwbW0mo1_Z",
        "outputId": "d40f3d4c-35fc-44a4-fc7f-3f153e121100"
      },
      "execution_count": null,
      "outputs": [
        {
          "output_type": "execute_result",
          "data": {
            "text/plain": [
              "(500, 500)"
            ]
          },
          "metadata": {},
          "execution_count": 29
        }
      ]
    },
    {
      "cell_type": "code",
      "source": [
        "x.shape, y.shape"
      ],
      "metadata": {
        "colab": {
          "base_uri": "https://localhost:8080/"
        },
        "id": "FmYHFmjWmcEg",
        "outputId": "7b03c680-5e2e-4694-a484-bf8bd1410aac"
      },
      "execution_count": null,
      "outputs": [
        {
          "output_type": "execute_result",
          "data": {
            "text/plain": [
              "((1000, 8), (1000,))"
            ]
          },
          "metadata": {},
          "execution_count": 30
        }
      ]
    },
    {
      "cell_type": "code",
      "source": [
        "x_train, x_temp, y_train, y_temp = train_test_split(x, y, test_size = 0.4, random_state = 0)\n",
        "x_valid, x_test, y_valid, y_test = train_test_split(x_temp, y_temp, test_size = 0.5, random_state = 0)"
      ],
      "metadata": {
        "id": "b0Y6c3Itfz3W"
      },
      "execution_count": null,
      "outputs": []
    },
    {
      "cell_type": "code",
      "source": [
        "model = tf.keras.Sequential([\n",
        "    tf.keras.layers.Dense(16, activation = 'relu'), #if x<=0 --> 0, x>0 --> x\n",
        "    tf.keras.layers.Dense(16, activation = 'relu'),\n",
        "    tf.keras.layers.Dense(1, activation = 'sigmoid')\n",
        "])"
      ],
      "metadata": {
        "id": "fW_DvXPXg6Zi"
      },
      "execution_count": null,
      "outputs": []
    },
    {
      "cell_type": "code",
      "source": [
        "model.compile(optimizer=tf.keras.optimizers.Adam(learning_rate = 0.001),\n",
        "              loss = tf.keras.losses.BinaryCrossentropy(),\n",
        "              metrics=['accuracy'])"
      ],
      "metadata": {
        "id": "KyGhQpd3iaYG"
      },
      "execution_count": null,
      "outputs": []
    },
    {
      "cell_type": "code",
      "source": [
        "model.evaluate(x_train, y_train)\n",
        "model.evaluate"
      ],
      "metadata": {
        "id": "xLMqVERwUF_U",
        "colab": {
          "base_uri": "https://localhost:8080/",
          "height": 237
        },
        "outputId": "3436cff1-1cfe-48b6-b536-921a74c52ad8"
      },
      "execution_count": null,
      "outputs": [
        {
          "output_type": "stream",
          "name": "stdout",
          "text": [
            "19/19 [==============================] - 2s 4ms/step - loss: 0.6875 - accuracy: 0.5217\n"
          ]
        },
        {
          "output_type": "execute_result",
          "data": {
            "text/plain": [
              "<bound method Model.evaluate of <keras.src.engine.sequential.Sequential object at 0x78bce2d89fc0>>"
            ],
            "text/html": [
              "<div style=\"max-width:800px; border: 1px solid var(--colab-border-color);\"><style>\n",
              "      pre.function-repr-contents {\n",
              "        overflow-x: auto;\n",
              "        padding: 8px 12px;\n",
              "        max-height: 500px;\n",
              "      }\n",
              "\n",
              "      pre.function-repr-contents.function-repr-contents-collapsed {\n",
              "        cursor: pointer;\n",
              "        max-height: 100px;\n",
              "      }\n",
              "    </style>\n",
              "    <pre style=\"white-space: initial; background:\n",
              "         var(--colab-secondary-surface-color); padding: 8px 12px;\n",
              "         border-bottom: 1px solid var(--colab-border-color);\"><b>keras.src.engine.training.Model.evaluate</b><br/>def evaluate(x=None, y=None, batch_size=None, verbose=&#x27;auto&#x27;, sample_weight=None, steps=None, callbacks=None, max_queue_size=10, workers=1, use_multiprocessing=False, return_dict=False, **kwargs)</pre><pre class=\"function-repr-contents function-repr-contents-collapsed\" style=\"\"><a class=\"filepath\" style=\"display:none\" href=\"#\">/usr/local/lib/python3.10/dist-packages/keras/src/engine/training.py</a>Returns the loss value &amp; metrics values for the model in test mode.\n",
              "\n",
              "Computation is done in batches (see the `batch_size` arg.)\n",
              "\n",
              "Args:\n",
              "    x: Input data. It could be:\n",
              "      - A Numpy array (or array-like), or a list of arrays\n",
              "        (in case the model has multiple inputs).\n",
              "      - A TensorFlow tensor, or a list of tensors\n",
              "        (in case the model has multiple inputs).\n",
              "      - A dict mapping input names to the corresponding array/tensors,\n",
              "        if the model has named inputs.\n",
              "      - A `tf.data` dataset. Should return a tuple\n",
              "        of either `(inputs, targets)` or\n",
              "        `(inputs, targets, sample_weights)`.\n",
              "      - A generator or `keras.utils.Sequence` returning `(inputs,\n",
              "        targets)` or `(inputs, targets, sample_weights)`.\n",
              "      A more detailed description of unpacking behavior for iterator\n",
              "      types (Dataset, generator, Sequence) is given in the `Unpacking\n",
              "      behavior for iterator-like inputs` section of `Model.fit`.\n",
              "    y: Target data. Like the input data `x`, it could be either Numpy\n",
              "      array(s) or TensorFlow tensor(s). It should be consistent with `x`\n",
              "      (you cannot have Numpy inputs and tensor targets, or inversely).\n",
              "      If `x` is a dataset, generator or `keras.utils.Sequence` instance,\n",
              "      `y` should not be specified (since targets will be obtained from\n",
              "      the iterator/dataset).\n",
              "    batch_size: Integer or `None`. Number of samples per batch of\n",
              "      computation. If unspecified, `batch_size` will default to 32. Do\n",
              "      not specify the `batch_size` if your data is in the form of a\n",
              "      dataset, generators, or `keras.utils.Sequence` instances (since\n",
              "      they generate batches).\n",
              "    verbose: `&quot;auto&quot;`, 0, 1, or 2. Verbosity mode.\n",
              "        0 = silent, 1 = progress bar, 2 = single line.\n",
              "        `&quot;auto&quot;` becomes 1 for most cases, and to 2 when used with\n",
              "        `ParameterServerStrategy`. Note that the progress bar is not\n",
              "        particularly useful when logged to a file, so `verbose=2` is\n",
              "        recommended when not running interactively (e.g. in a production\n",
              "        environment). Defaults to &#x27;auto&#x27;.\n",
              "    sample_weight: Optional Numpy array of weights for the test samples,\n",
              "      used for weighting the loss function. You can either pass a flat\n",
              "      (1D) Numpy array with the same length as the input samples\n",
              "        (1:1 mapping between weights and samples), or in the case of\n",
              "          temporal data, you can pass a 2D array with shape `(samples,\n",
              "          sequence_length)`, to apply a different weight to every\n",
              "          timestep of every sample. This argument is not supported when\n",
              "          `x` is a dataset, instead pass sample weights as the third\n",
              "          element of `x`.\n",
              "    steps: Integer or `None`. Total number of steps (batches of samples)\n",
              "      before declaring the evaluation round finished. Ignored with the\n",
              "      default value of `None`. If x is a `tf.data` dataset and `steps`\n",
              "      is None, &#x27;evaluate&#x27; will run until the dataset is exhausted. This\n",
              "      argument is not supported with array inputs.\n",
              "    callbacks: List of `keras.callbacks.Callback` instances. List of\n",
              "      callbacks to apply during evaluation. See\n",
              "      [callbacks](https://www.tensorflow.org/api_docs/python/tf/keras/callbacks).\n",
              "    max_queue_size: Integer. Used for generator or\n",
              "      `keras.utils.Sequence` input only. Maximum size for the generator\n",
              "      queue. If unspecified, `max_queue_size` will default to 10.\n",
              "    workers: Integer. Used for generator or `keras.utils.Sequence` input\n",
              "      only. Maximum number of processes to spin up when using\n",
              "      process-based threading. If unspecified, `workers` will default to\n",
              "      1.\n",
              "    use_multiprocessing: Boolean. Used for generator or\n",
              "      `keras.utils.Sequence` input only. If `True`, use process-based\n",
              "      threading. If unspecified, `use_multiprocessing` will default to\n",
              "      `False`. Note that because this implementation relies on\n",
              "      multiprocessing, you should not pass non-pickleable arguments to\n",
              "      the generator as they can&#x27;t be passed easily to children\n",
              "      processes.\n",
              "    return_dict: If `True`, loss and metric results are returned as a\n",
              "      dict, with each key being the name of the metric. If `False`, they\n",
              "      are returned as a list.\n",
              "    **kwargs: Unused at this time.\n",
              "\n",
              "See the discussion of `Unpacking behavior for iterator-like inputs` for\n",
              "`Model.fit`.\n",
              "\n",
              "Returns:\n",
              "    Scalar test loss (if the model has a single output and no metrics)\n",
              "    or list of scalars (if the model has multiple outputs\n",
              "    and/or metrics). The attribute `model.metrics_names` will give you\n",
              "    the display labels for the scalar outputs.\n",
              "\n",
              "Raises:\n",
              "    RuntimeError: If `model.evaluate` is wrapped in a `tf.function`.</pre>\n",
              "      <script>\n",
              "      if (google.colab.kernel.accessAllowed && google.colab.files && google.colab.files.view) {\n",
              "        for (const element of document.querySelectorAll('.filepath')) {\n",
              "          element.style.display = 'block'\n",
              "          element.onclick = (event) => {\n",
              "            event.preventDefault();\n",
              "            event.stopPropagation();\n",
              "            google.colab.files.view(element.textContent, 2117);\n",
              "          };\n",
              "        }\n",
              "      }\n",
              "      for (const element of document.querySelectorAll('.function-repr-contents')) {\n",
              "        element.onclick = (event) => {\n",
              "          event.preventDefault();\n",
              "          event.stopPropagation();\n",
              "          element.classList.toggle('function-repr-contents-collapsed');\n",
              "        };\n",
              "      }\n",
              "      </script>\n",
              "      </div>"
            ]
          },
          "metadata": {},
          "execution_count": 34
        }
      ]
    },
    {
      "cell_type": "code",
      "source": [
        "model.evaluate(x_valid, y_valid)"
      ],
      "metadata": {
        "colab": {
          "base_uri": "https://localhost:8080/"
        },
        "id": "LiHZa2VmNrv_",
        "outputId": "3bacd866-8cd3-40d2-b052-1bd8240dbfba"
      },
      "execution_count": null,
      "outputs": [
        {
          "output_type": "stream",
          "name": "stdout",
          "text": [
            "7/7 [==============================] - 0s 5ms/step - loss: 0.7097 - accuracy: 0.4850\n"
          ]
        },
        {
          "output_type": "execute_result",
          "data": {
            "text/plain": [
              "[0.7096716165542603, 0.48500001430511475]"
            ]
          },
          "metadata": {},
          "execution_count": 35
        }
      ]
    },
    {
      "cell_type": "code",
      "source": [
        "model.fit(x_train, y_train, batch_size=16, epochs=20, validation_data=(x_valid, y_valid))"
      ],
      "metadata": {
        "colab": {
          "base_uri": "https://localhost:8080/"
        },
        "id": "d14fy8V5N3ZR",
        "outputId": "84a26009-7bc4-4332-88fb-0dcb631ba40e"
      },
      "execution_count": null,
      "outputs": [
        {
          "output_type": "stream",
          "name": "stdout",
          "text": [
            "Epoch 1/20\n",
            "38/38 [==============================] - 2s 7ms/step - loss: 0.6521 - accuracy: 0.6333 - val_loss: 0.6290 - val_accuracy: 0.6750\n",
            "Epoch 2/20\n",
            "38/38 [==============================] - 0s 5ms/step - loss: 0.5904 - accuracy: 0.7417 - val_loss: 0.5790 - val_accuracy: 0.7150\n",
            "Epoch 3/20\n",
            "38/38 [==============================] - 0s 8ms/step - loss: 0.5539 - accuracy: 0.7500 - val_loss: 0.5500 - val_accuracy: 0.7450\n",
            "Epoch 4/20\n",
            "38/38 [==============================] - 0s 5ms/step - loss: 0.5337 - accuracy: 0.7533 - val_loss: 0.5341 - val_accuracy: 0.7550\n",
            "Epoch 5/20\n",
            "38/38 [==============================] - 0s 8ms/step - loss: 0.5227 - accuracy: 0.7583 - val_loss: 0.5248 - val_accuracy: 0.7550\n",
            "Epoch 6/20\n",
            "38/38 [==============================] - 0s 7ms/step - loss: 0.5148 - accuracy: 0.7550 - val_loss: 0.5184 - val_accuracy: 0.7500\n",
            "Epoch 7/20\n",
            "38/38 [==============================] - 0s 5ms/step - loss: 0.5098 - accuracy: 0.7600 - val_loss: 0.5109 - val_accuracy: 0.7500\n",
            "Epoch 8/20\n",
            "38/38 [==============================] - 0s 6ms/step - loss: 0.5041 - accuracy: 0.7600 - val_loss: 0.5049 - val_accuracy: 0.7500\n",
            "Epoch 9/20\n",
            "38/38 [==============================] - 0s 5ms/step - loss: 0.4995 - accuracy: 0.7683 - val_loss: 0.4999 - val_accuracy: 0.7500\n",
            "Epoch 10/20\n",
            "38/38 [==============================] - 0s 6ms/step - loss: 0.4961 - accuracy: 0.7700 - val_loss: 0.4959 - val_accuracy: 0.7500\n",
            "Epoch 11/20\n",
            "38/38 [==============================] - 0s 5ms/step - loss: 0.4940 - accuracy: 0.7733 - val_loss: 0.4914 - val_accuracy: 0.7450\n",
            "Epoch 12/20\n",
            "38/38 [==============================] - 0s 6ms/step - loss: 0.4901 - accuracy: 0.7700 - val_loss: 0.4880 - val_accuracy: 0.7450\n",
            "Epoch 13/20\n",
            "38/38 [==============================] - 0s 5ms/step - loss: 0.4870 - accuracy: 0.7650 - val_loss: 0.4853 - val_accuracy: 0.7400\n",
            "Epoch 14/20\n",
            "38/38 [==============================] - 0s 6ms/step - loss: 0.4841 - accuracy: 0.7717 - val_loss: 0.4822 - val_accuracy: 0.7450\n",
            "Epoch 15/20\n",
            "38/38 [==============================] - 0s 7ms/step - loss: 0.4820 - accuracy: 0.7683 - val_loss: 0.4787 - val_accuracy: 0.7500\n",
            "Epoch 16/20\n",
            "38/38 [==============================] - 0s 8ms/step - loss: 0.4797 - accuracy: 0.7750 - val_loss: 0.4768 - val_accuracy: 0.7500\n",
            "Epoch 17/20\n",
            "38/38 [==============================] - 0s 5ms/step - loss: 0.4772 - accuracy: 0.7767 - val_loss: 0.4744 - val_accuracy: 0.7450\n",
            "Epoch 18/20\n",
            "38/38 [==============================] - 0s 5ms/step - loss: 0.4746 - accuracy: 0.7783 - val_loss: 0.4728 - val_accuracy: 0.7450\n",
            "Epoch 19/20\n",
            "38/38 [==============================] - 0s 8ms/step - loss: 0.4731 - accuracy: 0.7750 - val_loss: 0.4719 - val_accuracy: 0.7400\n",
            "Epoch 20/20\n",
            "38/38 [==============================] - 0s 6ms/step - loss: 0.4711 - accuracy: 0.7750 - val_loss: 0.4695 - val_accuracy: 0.7450\n"
          ]
        },
        {
          "output_type": "execute_result",
          "data": {
            "text/plain": [
              "<keras.src.callbacks.History at 0x78bcdf786a40>"
            ]
          },
          "metadata": {},
          "execution_count": 36
        }
      ]
    },
    {
      "cell_type": "code",
      "source": [
        "model.evaluate(x_test, y_test)"
      ],
      "metadata": {
        "colab": {
          "base_uri": "https://localhost:8080/"
        },
        "id": "ZBebR1nUpr2r",
        "outputId": "2541d800-9955-499e-9aa0-d4764f8bb691"
      },
      "execution_count": null,
      "outputs": [
        {
          "output_type": "stream",
          "name": "stdout",
          "text": [
            "7/7 [==============================] - 0s 3ms/step - loss: 0.4890 - accuracy: 0.7650\n"
          ]
        },
        {
          "output_type": "execute_result",
          "data": {
            "text/plain": [
              "[0.4889761805534363, 0.7649999856948853]"
            ]
          },
          "metadata": {},
          "execution_count": 40
        }
      ]
    }
  ]
}