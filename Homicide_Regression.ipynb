{
  "cells": [
    {
      "cell_type": "markdown",
      "metadata": {
        "id": "view-in-github",
        "colab_type": "text"
      },
      "source": [
        "<a href=\"https://colab.research.google.com/github/yesufsa/PersonalInterestProject/blob/main/Homicide_Regression.ipynb\" target=\"_parent\"><img src=\"https://colab.research.google.com/assets/colab-badge.svg\" alt=\"Open In Colab\"/></a>"
      ]
    },
    {
      "cell_type": "code",
      "execution_count": 1,
      "metadata": {
        "id": "2a-S6Sx0YGPA"
      },
      "outputs": [],
      "source": [
        "from __future__ import absolute_import, division, print_function, unicode_literals\n",
        "import numpy as np\n",
        "from sklearn.model_selection import train_test_split\n",
        "from sklearn.preprocessing import StandardScaler\n",
        "import tensorflow_hub as hub\n",
        "from imblearn.over_sampling import RandomOverSampler\n",
        "import tensorflow as tf\n",
        "\n",
        "import pandas as pd\n",
        "\n",
        "import matplotlib.pyplot as plt\n",
        "from sklearn.preprocessing import LabelEncoder"
      ]
    },
    {
      "cell_type": "code",
      "execution_count": 2,
      "metadata": {
        "id": "DDfPoZnrDUce"
      },
      "outputs": [],
      "source": [
        "label_encoder = LabelEncoder()"
      ]
    },
    {
      "cell_type": "code",
      "execution_count": 3,
      "metadata": {
        "colab": {
          "base_uri": "https://localhost:8080/"
        },
        "id": "_DTYdCxJYg8x",
        "outputId": "d4e90478-87ab-448b-acf5-860519290e01"
      },
      "outputs": [
        {
          "output_type": "stream",
          "name": "stdout",
          "text": [
            "Perpetrator Race\n",
            "White                            12638\n",
            "Black                            12582\n",
            "Unknown                           9955\n",
            "Asian/Pacific Islander             200\n",
            "Native American/Alaska Native      192\n",
            "Name: count, dtype: int64\n",
            "24\n"
          ]
        }
      ],
      "source": [
        "df = pd.read_csv('database.csv')\n",
        "df.head()\n",
        "print(df[\"Perpetrator Race\"].value_counts())\n",
        "print(len(df.columns))"
      ]
    },
    {
      "cell_type": "code",
      "execution_count": 4,
      "metadata": {
        "id": "5io_V9iKFLbo"
      },
      "outputs": [],
      "source": [
        "CATEGORICAL_COLUMNS = ['Agency Code', 'Agency Name', 'Agency Type', 'City', 'State', 'Month', 'Crime Type', 'Crime Solved', 'Victim Sex', 'Victim Race', 'Victim Ethnicity', 'Perpetrator Sex', 'Perpetrator Race','Perpetrator Ethnicity', 'Relationship', 'Weapon', 'Record Source']"
      ]
    },
    {
      "cell_type": "code",
      "execution_count": 5,
      "metadata": {
        "colab": {
          "base_uri": "https://localhost:8080/",
          "height": 273
        },
        "id": "oyd5BSQTFNLj",
        "outputId": "ca43bfb1-879d-4b8b-ec3a-7233ac367da2"
      },
      "outputs": [
        {
          "output_type": "execute_result",
          "data": {
            "text/plain": [
              "   Record ID  Agency Code  Agency Name  Agency Type  City  State  Year  Month  \\\n",
              "0          1            0           65            1    29      1  1980      4   \n",
              "1          2            0           65            1    29      1  1980      7   \n",
              "2          3            0           65            1    29      1  1980      7   \n",
              "3          4            0           65            1    29      1  1980      0   \n",
              "4          5            0           65            1    29      1  1980      0   \n",
              "\n",
              "   Incident  Crime Type  ...  Victim Ethnicity  Perpetrator Sex  \\\n",
              "0       1.0           1  ...                 2                1   \n",
              "1       1.0           1  ...                 2                1   \n",
              "2       2.0           1  ...                 2                2   \n",
              "3       1.0           1  ...                 2                1   \n",
              "4       2.0           1  ...                 2                2   \n",
              "\n",
              "   Perpetrator Age  Perpetrator Race  Perpetrator Ethnicity  Relationship  \\\n",
              "0             15.0                 2                      2             0   \n",
              "1             42.0                 4                      2             0   \n",
              "2              0.0                 3                      2            26   \n",
              "3             42.0                 4                      2             0   \n",
              "4              0.0                 3                      2            26   \n",
              "\n",
              "   Weapon  Victim Count  Perpetrator Count  Record Source  \n",
              "0       0           0.0                0.0              0  \n",
              "1      13           0.0                0.0              0  \n",
              "2      15           0.0                0.0              0  \n",
              "3      13           0.0                0.0              0  \n",
              "4      15           0.0                1.0              0  \n",
              "\n",
              "[5 rows x 24 columns]"
            ],
            "text/html": [
              "\n",
              "  <div id=\"df-30653255-95bd-4cb0-9ee5-1b5d880e716a\" class=\"colab-df-container\">\n",
              "    <div>\n",
              "<style scoped>\n",
              "    .dataframe tbody tr th:only-of-type {\n",
              "        vertical-align: middle;\n",
              "    }\n",
              "\n",
              "    .dataframe tbody tr th {\n",
              "        vertical-align: top;\n",
              "    }\n",
              "\n",
              "    .dataframe thead th {\n",
              "        text-align: right;\n",
              "    }\n",
              "</style>\n",
              "<table border=\"1\" class=\"dataframe\">\n",
              "  <thead>\n",
              "    <tr style=\"text-align: right;\">\n",
              "      <th></th>\n",
              "      <th>Record ID</th>\n",
              "      <th>Agency Code</th>\n",
              "      <th>Agency Name</th>\n",
              "      <th>Agency Type</th>\n",
              "      <th>City</th>\n",
              "      <th>State</th>\n",
              "      <th>Year</th>\n",
              "      <th>Month</th>\n",
              "      <th>Incident</th>\n",
              "      <th>Crime Type</th>\n",
              "      <th>...</th>\n",
              "      <th>Victim Ethnicity</th>\n",
              "      <th>Perpetrator Sex</th>\n",
              "      <th>Perpetrator Age</th>\n",
              "      <th>Perpetrator Race</th>\n",
              "      <th>Perpetrator Ethnicity</th>\n",
              "      <th>Relationship</th>\n",
              "      <th>Weapon</th>\n",
              "      <th>Victim Count</th>\n",
              "      <th>Perpetrator Count</th>\n",
              "      <th>Record Source</th>\n",
              "    </tr>\n",
              "  </thead>\n",
              "  <tbody>\n",
              "    <tr>\n",
              "      <th>0</th>\n",
              "      <td>1</td>\n",
              "      <td>0</td>\n",
              "      <td>65</td>\n",
              "      <td>1</td>\n",
              "      <td>29</td>\n",
              "      <td>1</td>\n",
              "      <td>1980</td>\n",
              "      <td>4</td>\n",
              "      <td>1.0</td>\n",
              "      <td>1</td>\n",
              "      <td>...</td>\n",
              "      <td>2</td>\n",
              "      <td>1</td>\n",
              "      <td>15.0</td>\n",
              "      <td>2</td>\n",
              "      <td>2</td>\n",
              "      <td>0</td>\n",
              "      <td>0</td>\n",
              "      <td>0.0</td>\n",
              "      <td>0.0</td>\n",
              "      <td>0</td>\n",
              "    </tr>\n",
              "    <tr>\n",
              "      <th>1</th>\n",
              "      <td>2</td>\n",
              "      <td>0</td>\n",
              "      <td>65</td>\n",
              "      <td>1</td>\n",
              "      <td>29</td>\n",
              "      <td>1</td>\n",
              "      <td>1980</td>\n",
              "      <td>7</td>\n",
              "      <td>1.0</td>\n",
              "      <td>1</td>\n",
              "      <td>...</td>\n",
              "      <td>2</td>\n",
              "      <td>1</td>\n",
              "      <td>42.0</td>\n",
              "      <td>4</td>\n",
              "      <td>2</td>\n",
              "      <td>0</td>\n",
              "      <td>13</td>\n",
              "      <td>0.0</td>\n",
              "      <td>0.0</td>\n",
              "      <td>0</td>\n",
              "    </tr>\n",
              "    <tr>\n",
              "      <th>2</th>\n",
              "      <td>3</td>\n",
              "      <td>0</td>\n",
              "      <td>65</td>\n",
              "      <td>1</td>\n",
              "      <td>29</td>\n",
              "      <td>1</td>\n",
              "      <td>1980</td>\n",
              "      <td>7</td>\n",
              "      <td>2.0</td>\n",
              "      <td>1</td>\n",
              "      <td>...</td>\n",
              "      <td>2</td>\n",
              "      <td>2</td>\n",
              "      <td>0.0</td>\n",
              "      <td>3</td>\n",
              "      <td>2</td>\n",
              "      <td>26</td>\n",
              "      <td>15</td>\n",
              "      <td>0.0</td>\n",
              "      <td>0.0</td>\n",
              "      <td>0</td>\n",
              "    </tr>\n",
              "    <tr>\n",
              "      <th>3</th>\n",
              "      <td>4</td>\n",
              "      <td>0</td>\n",
              "      <td>65</td>\n",
              "      <td>1</td>\n",
              "      <td>29</td>\n",
              "      <td>1</td>\n",
              "      <td>1980</td>\n",
              "      <td>0</td>\n",
              "      <td>1.0</td>\n",
              "      <td>1</td>\n",
              "      <td>...</td>\n",
              "      <td>2</td>\n",
              "      <td>1</td>\n",
              "      <td>42.0</td>\n",
              "      <td>4</td>\n",
              "      <td>2</td>\n",
              "      <td>0</td>\n",
              "      <td>13</td>\n",
              "      <td>0.0</td>\n",
              "      <td>0.0</td>\n",
              "      <td>0</td>\n",
              "    </tr>\n",
              "    <tr>\n",
              "      <th>4</th>\n",
              "      <td>5</td>\n",
              "      <td>0</td>\n",
              "      <td>65</td>\n",
              "      <td>1</td>\n",
              "      <td>29</td>\n",
              "      <td>1</td>\n",
              "      <td>1980</td>\n",
              "      <td>0</td>\n",
              "      <td>2.0</td>\n",
              "      <td>1</td>\n",
              "      <td>...</td>\n",
              "      <td>2</td>\n",
              "      <td>2</td>\n",
              "      <td>0.0</td>\n",
              "      <td>3</td>\n",
              "      <td>2</td>\n",
              "      <td>26</td>\n",
              "      <td>15</td>\n",
              "      <td>0.0</td>\n",
              "      <td>1.0</td>\n",
              "      <td>0</td>\n",
              "    </tr>\n",
              "  </tbody>\n",
              "</table>\n",
              "<p>5 rows × 24 columns</p>\n",
              "</div>\n",
              "    <div class=\"colab-df-buttons\">\n",
              "\n",
              "  <div class=\"colab-df-container\">\n",
              "    <button class=\"colab-df-convert\" onclick=\"convertToInteractive('df-30653255-95bd-4cb0-9ee5-1b5d880e716a')\"\n",
              "            title=\"Convert this dataframe to an interactive table.\"\n",
              "            style=\"display:none;\">\n",
              "\n",
              "  <svg xmlns=\"http://www.w3.org/2000/svg\" height=\"24px\" viewBox=\"0 -960 960 960\">\n",
              "    <path d=\"M120-120v-720h720v720H120Zm60-500h600v-160H180v160Zm220 220h160v-160H400v160Zm0 220h160v-160H400v160ZM180-400h160v-160H180v160Zm440 0h160v-160H620v160ZM180-180h160v-160H180v160Zm440 0h160v-160H620v160Z\"/>\n",
              "  </svg>\n",
              "    </button>\n",
              "\n",
              "  <style>\n",
              "    .colab-df-container {\n",
              "      display:flex;\n",
              "      gap: 12px;\n",
              "    }\n",
              "\n",
              "    .colab-df-convert {\n",
              "      background-color: #E8F0FE;\n",
              "      border: none;\n",
              "      border-radius: 50%;\n",
              "      cursor: pointer;\n",
              "      display: none;\n",
              "      fill: #1967D2;\n",
              "      height: 32px;\n",
              "      padding: 0 0 0 0;\n",
              "      width: 32px;\n",
              "    }\n",
              "\n",
              "    .colab-df-convert:hover {\n",
              "      background-color: #E2EBFA;\n",
              "      box-shadow: 0px 1px 2px rgba(60, 64, 67, 0.3), 0px 1px 3px 1px rgba(60, 64, 67, 0.15);\n",
              "      fill: #174EA6;\n",
              "    }\n",
              "\n",
              "    .colab-df-buttons div {\n",
              "      margin-bottom: 4px;\n",
              "    }\n",
              "\n",
              "    [theme=dark] .colab-df-convert {\n",
              "      background-color: #3B4455;\n",
              "      fill: #D2E3FC;\n",
              "    }\n",
              "\n",
              "    [theme=dark] .colab-df-convert:hover {\n",
              "      background-color: #434B5C;\n",
              "      box-shadow: 0px 1px 3px 1px rgba(0, 0, 0, 0.15);\n",
              "      filter: drop-shadow(0px 1px 2px rgba(0, 0, 0, 0.3));\n",
              "      fill: #FFFFFF;\n",
              "    }\n",
              "  </style>\n",
              "\n",
              "    <script>\n",
              "      const buttonEl =\n",
              "        document.querySelector('#df-30653255-95bd-4cb0-9ee5-1b5d880e716a button.colab-df-convert');\n",
              "      buttonEl.style.display =\n",
              "        google.colab.kernel.accessAllowed ? 'block' : 'none';\n",
              "\n",
              "      async function convertToInteractive(key) {\n",
              "        const element = document.querySelector('#df-30653255-95bd-4cb0-9ee5-1b5d880e716a');\n",
              "        const dataTable =\n",
              "          await google.colab.kernel.invokeFunction('convertToInteractive',\n",
              "                                                    [key], {});\n",
              "        if (!dataTable) return;\n",
              "\n",
              "        const docLinkHtml = 'Like what you see? Visit the ' +\n",
              "          '<a target=\"_blank\" href=https://colab.research.google.com/notebooks/data_table.ipynb>data table notebook</a>'\n",
              "          + ' to learn more about interactive tables.';\n",
              "        element.innerHTML = '';\n",
              "        dataTable['output_type'] = 'display_data';\n",
              "        await google.colab.output.renderOutput(dataTable, element);\n",
              "        const docLink = document.createElement('div');\n",
              "        docLink.innerHTML = docLinkHtml;\n",
              "        element.appendChild(docLink);\n",
              "      }\n",
              "    </script>\n",
              "  </div>\n",
              "\n",
              "\n",
              "<div id=\"df-87b9e523-5c5c-4a6c-9aeb-8cc49dcfba5b\">\n",
              "  <button class=\"colab-df-quickchart\" onclick=\"quickchart('df-87b9e523-5c5c-4a6c-9aeb-8cc49dcfba5b')\"\n",
              "            title=\"Suggest charts\"\n",
              "            style=\"display:none;\">\n",
              "\n",
              "<svg xmlns=\"http://www.w3.org/2000/svg\" height=\"24px\"viewBox=\"0 0 24 24\"\n",
              "     width=\"24px\">\n",
              "    <g>\n",
              "        <path d=\"M19 3H5c-1.1 0-2 .9-2 2v14c0 1.1.9 2 2 2h14c1.1 0 2-.9 2-2V5c0-1.1-.9-2-2-2zM9 17H7v-7h2v7zm4 0h-2V7h2v10zm4 0h-2v-4h2v4z\"/>\n",
              "    </g>\n",
              "</svg>\n",
              "  </button>\n",
              "\n",
              "<style>\n",
              "  .colab-df-quickchart {\n",
              "      --bg-color: #E8F0FE;\n",
              "      --fill-color: #1967D2;\n",
              "      --hover-bg-color: #E2EBFA;\n",
              "      --hover-fill-color: #174EA6;\n",
              "      --disabled-fill-color: #AAA;\n",
              "      --disabled-bg-color: #DDD;\n",
              "  }\n",
              "\n",
              "  [theme=dark] .colab-df-quickchart {\n",
              "      --bg-color: #3B4455;\n",
              "      --fill-color: #D2E3FC;\n",
              "      --hover-bg-color: #434B5C;\n",
              "      --hover-fill-color: #FFFFFF;\n",
              "      --disabled-bg-color: #3B4455;\n",
              "      --disabled-fill-color: #666;\n",
              "  }\n",
              "\n",
              "  .colab-df-quickchart {\n",
              "    background-color: var(--bg-color);\n",
              "    border: none;\n",
              "    border-radius: 50%;\n",
              "    cursor: pointer;\n",
              "    display: none;\n",
              "    fill: var(--fill-color);\n",
              "    height: 32px;\n",
              "    padding: 0;\n",
              "    width: 32px;\n",
              "  }\n",
              "\n",
              "  .colab-df-quickchart:hover {\n",
              "    background-color: var(--hover-bg-color);\n",
              "    box-shadow: 0 1px 2px rgba(60, 64, 67, 0.3), 0 1px 3px 1px rgba(60, 64, 67, 0.15);\n",
              "    fill: var(--button-hover-fill-color);\n",
              "  }\n",
              "\n",
              "  .colab-df-quickchart-complete:disabled,\n",
              "  .colab-df-quickchart-complete:disabled:hover {\n",
              "    background-color: var(--disabled-bg-color);\n",
              "    fill: var(--disabled-fill-color);\n",
              "    box-shadow: none;\n",
              "  }\n",
              "\n",
              "  .colab-df-spinner {\n",
              "    border: 2px solid var(--fill-color);\n",
              "    border-color: transparent;\n",
              "    border-bottom-color: var(--fill-color);\n",
              "    animation:\n",
              "      spin 1s steps(1) infinite;\n",
              "  }\n",
              "\n",
              "  @keyframes spin {\n",
              "    0% {\n",
              "      border-color: transparent;\n",
              "      border-bottom-color: var(--fill-color);\n",
              "      border-left-color: var(--fill-color);\n",
              "    }\n",
              "    20% {\n",
              "      border-color: transparent;\n",
              "      border-left-color: var(--fill-color);\n",
              "      border-top-color: var(--fill-color);\n",
              "    }\n",
              "    30% {\n",
              "      border-color: transparent;\n",
              "      border-left-color: var(--fill-color);\n",
              "      border-top-color: var(--fill-color);\n",
              "      border-right-color: var(--fill-color);\n",
              "    }\n",
              "    40% {\n",
              "      border-color: transparent;\n",
              "      border-right-color: var(--fill-color);\n",
              "      border-top-color: var(--fill-color);\n",
              "    }\n",
              "    60% {\n",
              "      border-color: transparent;\n",
              "      border-right-color: var(--fill-color);\n",
              "    }\n",
              "    80% {\n",
              "      border-color: transparent;\n",
              "      border-right-color: var(--fill-color);\n",
              "      border-bottom-color: var(--fill-color);\n",
              "    }\n",
              "    90% {\n",
              "      border-color: transparent;\n",
              "      border-bottom-color: var(--fill-color);\n",
              "    }\n",
              "  }\n",
              "</style>\n",
              "\n",
              "  <script>\n",
              "    async function quickchart(key) {\n",
              "      const quickchartButtonEl =\n",
              "        document.querySelector('#' + key + ' button');\n",
              "      quickchartButtonEl.disabled = true;  // To prevent multiple clicks.\n",
              "      quickchartButtonEl.classList.add('colab-df-spinner');\n",
              "      try {\n",
              "        const charts = await google.colab.kernel.invokeFunction(\n",
              "            'suggestCharts', [key], {});\n",
              "      } catch (error) {\n",
              "        console.error('Error during call to suggestCharts:', error);\n",
              "      }\n",
              "      quickchartButtonEl.classList.remove('colab-df-spinner');\n",
              "      quickchartButtonEl.classList.add('colab-df-quickchart-complete');\n",
              "    }\n",
              "    (() => {\n",
              "      let quickchartButtonEl =\n",
              "        document.querySelector('#df-87b9e523-5c5c-4a6c-9aeb-8cc49dcfba5b button');\n",
              "      quickchartButtonEl.style.display =\n",
              "        google.colab.kernel.accessAllowed ? 'block' : 'none';\n",
              "    })();\n",
              "  </script>\n",
              "</div>\n",
              "    </div>\n",
              "  </div>\n"
            ],
            "application/vnd.google.colaboratory.intrinsic+json": {
              "type": "dataframe",
              "variable_name": "df"
            }
          },
          "metadata": {},
          "execution_count": 5
        }
      ],
      "source": [
        "for entry in CATEGORICAL_COLUMNS:\n",
        "  df[entry] = label_encoder.fit_transform(df[entry])\n",
        "  df[entry].unique()\n",
        "df = df.dropna()\n",
        "df.head()"
      ]
    },
    {
      "cell_type": "code",
      "execution_count": 6,
      "metadata": {
        "colab": {
          "base_uri": "https://localhost:8080/"
        },
        "id": "3smpIKLjC-Sq",
        "outputId": "99f8f2f4-a488-4416-8d08-b1a28d701b71"
      },
      "outputs": [
        {
          "output_type": "execute_result",
          "data": {
            "text/plain": [
              "Record ID                  int64\n",
              "Agency Code                int64\n",
              "Agency Name                int64\n",
              "Agency Type                int64\n",
              "City                       int64\n",
              "State                      int64\n",
              "Year                       int64\n",
              "Month                      int64\n",
              "Incident                 float64\n",
              "Crime Type                 int64\n",
              "Crime Solved               int64\n",
              "Victim Sex                 int64\n",
              "Victim Age               float64\n",
              "Victim Race                int64\n",
              "Victim Ethnicity           int64\n",
              "Perpetrator Sex            int64\n",
              "Perpetrator Age          float64\n",
              "Perpetrator Race           int64\n",
              "Perpetrator Ethnicity      int64\n",
              "Relationship               int64\n",
              "Weapon                     int64\n",
              "Victim Count             float64\n",
              "Perpetrator Count        float64\n",
              "Record Source              int64\n",
              "dtype: object"
            ]
          },
          "metadata": {},
          "execution_count": 6
        }
      ],
      "source": [
        "df.dtypes"
      ]
    },
    {
      "cell_type": "code",
      "execution_count": 7,
      "metadata": {
        "colab": {
          "base_uri": "https://localhost:8080/"
        },
        "id": "5gaMxgqwDA40",
        "outputId": "d2f3a4a2-71b3-418a-dd04-af0b022a3e7a"
      },
      "outputs": [
        {
          "output_type": "execute_result",
          "data": {
            "text/plain": [
              "array([2, 4, 3, 1, 0])"
            ]
          },
          "metadata": {},
          "execution_count": 7
        }
      ],
      "source": [
        "df[\"Perpetrator Race\"].unique()"
      ]
    },
    {
      "cell_type": "code",
      "execution_count": 8,
      "metadata": {
        "colab": {
          "base_uri": "https://localhost:8080/"
        },
        "id": "W_olPXM8DJiG",
        "outputId": "3c3d06e2-cc70-4ba3-8f96-5004031d9be5"
      },
      "outputs": [
        {
          "output_type": "execute_result",
          "data": {
            "text/plain": [
              "Perpetrator Race\n",
              "4    12638\n",
              "1    12582\n",
              "3     9955\n",
              "0      200\n",
              "2      192\n",
              "Name: count, dtype: int64"
            ]
          },
          "metadata": {},
          "execution_count": 8
        }
      ],
      "source": [
        "df[\"Perpetrator Race\"].value_counts()\n",
        "#white\n",
        "#black\n",
        "#Unknown\n",
        "#asian\n",
        "#native"
      ]
    },
    {
      "cell_type": "code",
      "execution_count": 9,
      "metadata": {
        "colab": {
          "base_uri": "https://localhost:8080/"
        },
        "id": "Bq0CT3nIWjnp",
        "outputId": "6ff2dc59-6b53-4ee1-e0d7-7d7701dae0c1"
      },
      "outputs": [
        {
          "output_type": "stream",
          "name": "stdout",
          "text": [
            "[[1.0000e+00 0.0000e+00 6.5000e+01 ... 0.0000e+00 0.0000e+00 0.0000e+00]\n",
            " [2.0000e+00 0.0000e+00 6.5000e+01 ... 1.3000e+01 0.0000e+00 0.0000e+00]\n",
            " [3.0000e+00 0.0000e+00 6.5000e+01 ... 1.5000e+01 0.0000e+00 0.0000e+00]\n",
            " ...\n",
            " [3.5565e+04 2.7790e+03 3.2180e+03 ... 9.0000e+00 0.0000e+00 0.0000e+00]\n",
            " [3.5566e+04 2.7800e+03 3.2180e+03 ... 8.0000e+00 0.0000e+00 0.0000e+00]\n",
            " [3.5567e+04 2.7800e+03 3.2180e+03 ... 2.0000e+00 0.0000e+00 0.0000e+00]]\n"
          ]
        }
      ],
      "source": [
        "df = df.drop('Perpetrator Age', axis=1)\n",
        "x= df[df.columns[:-1]].values.astype(np.float32)\n",
        "y = df[df.columns[17]].values.astype(np.float32)\n",
        "print(x)"
      ]
    },
    {
      "cell_type": "code",
      "execution_count": 10,
      "metadata": {
        "id": "aSwtbAU3mmQP"
      },
      "outputs": [],
      "source": [
        "over = RandomOverSampler()\n",
        "x, y = over.fit_resample(x, y)\n",
        "data = np.hstack((x, np.reshape(y,(-1, 1))))\n",
        "transformed_df = pd.DataFrame(data, columns = df.columns)"
      ]
    },
    {
      "cell_type": "code",
      "execution_count": 11,
      "metadata": {
        "colab": {
          "base_uri": "https://localhost:8080/"
        },
        "id": "hUMWHxk01OBw",
        "outputId": "580bc27f-e7dc-4320-9c71-d3867af06f01"
      },
      "outputs": [
        {
          "output_type": "execute_result",
          "data": {
            "text/plain": [
              "(12638, 12582, 9955, 200, 192, 0)"
            ]
          },
          "metadata": {},
          "execution_count": 11
        }
      ],
      "source": [
        "len(df[df[\"Perpetrator Race\"] == 4]), len(df[df[\"Perpetrator Race\"] == 1]), len(df[df[\"Perpetrator Race\"] == 3]),len(df[df[\"Perpetrator Race\"] == 0]), len(df[df[\"Perpetrator Race\"] == 2]), len(df[df[\"Perpetrator Race\"] == 5])"
      ]
    },
    {
      "cell_type": "code",
      "execution_count": 12,
      "metadata": {
        "colab": {
          "base_uri": "https://localhost:8080/"
        },
        "id": "bYZuv4EKf2NH",
        "outputId": "cb0c8fec-dca8-4e83-ef6b-bb43cfb3eae3"
      },
      "outputs": [
        {
          "output_type": "execute_result",
          "data": {
            "text/plain": [
              "(28767, 15012, 9955, 200, 192, 0)"
            ]
          },
          "metadata": {},
          "execution_count": 12
        }
      ],
      "source": [
        "len(transformed_df[transformed_df[\"Perpetrator Race\"] == 4]), len(transformed_df[transformed_df[\"Perpetrator Race\"] == 1]), len(df[df[\"Perpetrator Race\"] == 3]),len(df[df[\"Perpetrator Race\"] == 0]), len(df[df[\"Perpetrator Race\"] == 2]), len(df[df[\"Perpetrator Race\"] == 5])"
      ]
    },
    {
      "cell_type": "code",
      "execution_count": 13,
      "metadata": {
        "id": "MTyhwpnKXDpg"
      },
      "outputs": [],
      "source": [
        "x_train, x_temp, y_train, y_temp = train_test_split(x, y, test_size = 0.4, random_state = 0)"
      ]
    },
    {
      "cell_type": "code",
      "execution_count": 14,
      "metadata": {
        "colab": {
          "base_uri": "https://localhost:8080/"
        },
        "id": "dKSilwhXmCtG",
        "outputId": "70020ddf-0449-4d4a-f744-57b58a10a721"
      },
      "outputs": [
        {
          "output_type": "stream",
          "name": "stdout",
          "text": [
            "StandardScaler()\n"
          ]
        },
        {
          "output_type": "execute_result",
          "data": {
            "text/plain": [
              "array([1.81325638e+04, 1.76522917e+03, 1.50826006e+03, 1.43988769e+00,\n",
              "       6.34421937e+02, 1.84621651e+01, 1.98037922e+03, 5.54975605e+00,\n",
              "       1.23248642e+01, 9.86790021e-01, 8.25554635e-01, 7.99871122e-01,\n",
              "       3.41305809e+01, 2.92317960e+00, 9.38552886e-01, 1.08225168e+00,\n",
              "       2.96294762e+00, 1.00349811e+00, 1.59864218e+01, 7.99235939e+00,\n",
              "       1.10650833e-01, 1.98379821e-01])"
            ]
          },
          "metadata": {},
          "execution_count": 14
        }
      ],
      "source": [
        "scaler = StandardScaler().fit(x_train)\n",
        "scaler = StandardScaler().fit(x_temp)\n",
        "print(scaler)\n",
        "scaler.mean_"
      ]
    },
    {
      "cell_type": "code",
      "execution_count": 15,
      "metadata": {
        "colab": {
          "base_uri": "https://localhost:8080/"
        },
        "id": "b5nfEtnDiTzH",
        "outputId": "8f16a715-6015-4177-f829-8fa10f57efdd"
      },
      "outputs": [
        {
          "output_type": "execute_result",
          "data": {
            "text/plain": [
              "array([1.01184756e+04, 1.32028954e+03, 8.26688903e+02, 9.76926887e-01,\n",
              "       3.24663396e+02, 1.47896702e+01, 4.85193702e-01, 3.60649400e+00,\n",
              "       2.36056125e+01, 1.14173006e-01, 3.79492002e-01, 4.01703981e-01,\n",
              "       2.85890652e+01, 1.43804494e+00, 7.22814014e-01, 5.09778100e-01,\n",
              "       1.29617465e+00, 8.16714548e-01, 1.12988270e+01, 3.21615877e+00,\n",
              "       4.85165911e-01, 5.85778517e-01])"
            ]
          },
          "metadata": {},
          "execution_count": 15
        }
      ],
      "source": [
        "scaler.scale_"
      ]
    },
    {
      "cell_type": "code",
      "execution_count": 16,
      "metadata": {
        "colab": {
          "base_uri": "https://localhost:8080/"
        },
        "id": "iXPGa1A2iXMV",
        "outputId": "40cb6147-095f-4286-8481-c36b3fc80e25"
      },
      "outputs": [
        {
          "output_type": "execute_result",
          "data": {
            "text/plain": [
              "array([[ 1.4758583 ,  0.19751032, -1.6442219 , ...,  0.0023757 ,\n",
              "        -0.22806802, -0.3386601 ],\n",
              "       [-0.7470062 ,  0.17706028,  0.82587284, ...,  0.0023757 ,\n",
              "        -0.22806802, -0.3386601 ],\n",
              "       [-0.9569192 , -0.25617805, -1.2293139 , ...,  0.0023757 ,\n",
              "        -0.22806802, -0.3386601 ],\n",
              "       ...,\n",
              "       [ 0.627015  , -1.0491859 ,  0.02508797, ...,  2.1788852 ,\n",
              "         1.8330826 , -0.3386601 ],\n",
              "       [ 0.5754262 , -1.1264416 ,  0.71458554, ...,  0.0023757 ,\n",
              "        -0.22806802, -0.3386601 ],\n",
              "       [-1.5219252 , -1.0188894 ,  0.02508797, ...,  0.0023757 ,\n",
              "        -0.22806802, -0.3386601 ]], dtype=float32)"
            ]
          },
          "metadata": {},
          "execution_count": 16
        }
      ],
      "source": [
        "scaler.transform(x_train)"
      ]
    },
    {
      "cell_type": "code",
      "execution_count": 17,
      "metadata": {
        "id": "BmIsT9HmidNV"
      },
      "outputs": [],
      "source": [
        "x_train_scaled = scaler.transform(x_train)\n",
        "x_temp_scaled = scaler.transform(x_temp)"
      ]
    },
    {
      "cell_type": "code",
      "execution_count": 18,
      "metadata": {
        "id": "PXyjXsFQXI7g"
      },
      "outputs": [],
      "source": [
        "model = tf.keras.Sequential([\n",
        "    tf.keras.layers.Dense(128, activation = 'relu'), #if x<=0 --> 0, x>0 --> x\n",
        "    tf.keras.layers.Dense(128, activation = 'relu'),\n",
        "    tf.keras.layers.Dense(16, activation = 'relu'),\n",
        "    tf.keras.layers.Dense(1, activation = 'sigmoid')\n",
        "])"
      ]
    },
    {
      "cell_type": "code",
      "execution_count": 19,
      "metadata": {
        "id": "dUrplvNZXMoJ"
      },
      "outputs": [],
      "source": [
        "model.compile(optimizer=tf.keras.optimizers.Adam(learning_rate = 0.01),\n",
        "              loss = tf.keras.losses.BinaryCrossentropy(),\n",
        "              metrics=['accuracy'])"
      ]
    },
    {
      "cell_type": "code",
      "execution_count": 20,
      "metadata": {
        "colab": {
          "base_uri": "https://localhost:8080/",
          "height": 257
        },
        "id": "Wmet9___XPgQ",
        "outputId": "d6ee8f25-9a00-47c6-d907-597a174f6a69"
      },
      "outputs": [
        {
          "output_type": "stream",
          "name": "stdout",
          "text": [
            "1019/1019 [==============================] - 3s 2ms/step - loss: 22.9356 - accuracy: 0.3312\n",
            "1019/1019 [==============================] - 2s 2ms/step - loss: 0.5981 - accuracy: 0.3386\n"
          ]
        },
        {
          "output_type": "execute_result",
          "data": {
            "text/plain": [
              "<bound method Model.evaluate of <keras.src.engine.sequential.Sequential object at 0x7cb34d68bbe0>>"
            ],
            "text/html": [
              "<div style=\"max-width:800px; border: 1px solid var(--colab-border-color);\"><style>\n",
              "      pre.function-repr-contents {\n",
              "        overflow-x: auto;\n",
              "        padding: 8px 12px;\n",
              "        max-height: 500px;\n",
              "      }\n",
              "\n",
              "      pre.function-repr-contents.function-repr-contents-collapsed {\n",
              "        cursor: pointer;\n",
              "        max-height: 100px;\n",
              "      }\n",
              "    </style>\n",
              "    <pre style=\"white-space: initial; background:\n",
              "         var(--colab-secondary-surface-color); padding: 8px 12px;\n",
              "         border-bottom: 1px solid var(--colab-border-color);\"><b>keras.src.engine.training.Model.evaluate</b><br/>def evaluate(x=None, y=None, batch_size=None, verbose=&#x27;auto&#x27;, sample_weight=None, steps=None, callbacks=None, max_queue_size=10, workers=1, use_multiprocessing=False, return_dict=False, **kwargs)</pre><pre class=\"function-repr-contents function-repr-contents-collapsed\" style=\"\"><a class=\"filepath\" style=\"display:none\" href=\"#\">/usr/local/lib/python3.10/dist-packages/keras/src/engine/training.py</a>Returns the loss value &amp; metrics values for the model in test mode.\n",
              "\n",
              "Computation is done in batches (see the `batch_size` arg.)\n",
              "\n",
              "Args:\n",
              "    x: Input data. It could be:\n",
              "      - A Numpy array (or array-like), or a list of arrays\n",
              "        (in case the model has multiple inputs).\n",
              "      - A TensorFlow tensor, or a list of tensors\n",
              "        (in case the model has multiple inputs).\n",
              "      - A dict mapping input names to the corresponding array/tensors,\n",
              "        if the model has named inputs.\n",
              "      - A `tf.data` dataset. Should return a tuple\n",
              "        of either `(inputs, targets)` or\n",
              "        `(inputs, targets, sample_weights)`.\n",
              "      - A generator or `keras.utils.Sequence` returning `(inputs,\n",
              "        targets)` or `(inputs, targets, sample_weights)`.\n",
              "      A more detailed description of unpacking behavior for iterator\n",
              "      types (Dataset, generator, Sequence) is given in the `Unpacking\n",
              "      behavior for iterator-like inputs` section of `Model.fit`.\n",
              "    y: Target data. Like the input data `x`, it could be either Numpy\n",
              "      array(s) or TensorFlow tensor(s). It should be consistent with `x`\n",
              "      (you cannot have Numpy inputs and tensor targets, or inversely).\n",
              "      If `x` is a dataset, generator or `keras.utils.Sequence` instance,\n",
              "      `y` should not be specified (since targets will be obtained from\n",
              "      the iterator/dataset).\n",
              "    batch_size: Integer or `None`. Number of samples per batch of\n",
              "      computation. If unspecified, `batch_size` will default to 32. Do\n",
              "      not specify the `batch_size` if your data is in the form of a\n",
              "      dataset, generators, or `keras.utils.Sequence` instances (since\n",
              "      they generate batches).\n",
              "    verbose: `&quot;auto&quot;`, 0, 1, or 2. Verbosity mode.\n",
              "        0 = silent, 1 = progress bar, 2 = single line.\n",
              "        `&quot;auto&quot;` becomes 1 for most cases, and to 2 when used with\n",
              "        `ParameterServerStrategy`. Note that the progress bar is not\n",
              "        particularly useful when logged to a file, so `verbose=2` is\n",
              "        recommended when not running interactively (e.g. in a production\n",
              "        environment). Defaults to &#x27;auto&#x27;.\n",
              "    sample_weight: Optional Numpy array of weights for the test samples,\n",
              "      used for weighting the loss function. You can either pass a flat\n",
              "      (1D) Numpy array with the same length as the input samples\n",
              "        (1:1 mapping between weights and samples), or in the case of\n",
              "          temporal data, you can pass a 2D array with shape `(samples,\n",
              "          sequence_length)`, to apply a different weight to every\n",
              "          timestep of every sample. This argument is not supported when\n",
              "          `x` is a dataset, instead pass sample weights as the third\n",
              "          element of `x`.\n",
              "    steps: Integer or `None`. Total number of steps (batches of samples)\n",
              "      before declaring the evaluation round finished. Ignored with the\n",
              "      default value of `None`. If x is a `tf.data` dataset and `steps`\n",
              "      is None, &#x27;evaluate&#x27; will run until the dataset is exhausted. This\n",
              "      argument is not supported with array inputs.\n",
              "    callbacks: List of `keras.callbacks.Callback` instances. List of\n",
              "      callbacks to apply during evaluation. See\n",
              "      [callbacks](https://www.tensorflow.org/api_docs/python/tf/keras/callbacks).\n",
              "    max_queue_size: Integer. Used for generator or\n",
              "      `keras.utils.Sequence` input only. Maximum size for the generator\n",
              "      queue. If unspecified, `max_queue_size` will default to 10.\n",
              "    workers: Integer. Used for generator or `keras.utils.Sequence` input\n",
              "      only. Maximum number of processes to spin up when using\n",
              "      process-based threading. If unspecified, `workers` will default to\n",
              "      1.\n",
              "    use_multiprocessing: Boolean. Used for generator or\n",
              "      `keras.utils.Sequence` input only. If `True`, use process-based\n",
              "      threading. If unspecified, `use_multiprocessing` will default to\n",
              "      `False`. Note that because this implementation relies on\n",
              "      multiprocessing, you should not pass non-pickleable arguments to\n",
              "      the generator as they can&#x27;t be passed easily to children\n",
              "      processes.\n",
              "    return_dict: If `True`, loss and metric results are returned as a\n",
              "      dict, with each key being the name of the metric. If `False`, they\n",
              "      are returned as a list.\n",
              "    **kwargs: Unused at this time.\n",
              "\n",
              "See the discussion of `Unpacking behavior for iterator-like inputs` for\n",
              "`Model.fit`.\n",
              "\n",
              "Returns:\n",
              "    Scalar test loss (if the model has a single output and no metrics)\n",
              "    or list of scalars (if the model has multiple outputs\n",
              "    and/or metrics). The attribute `model.metrics_names` will give you\n",
              "    the display labels for the scalar outputs.\n",
              "\n",
              "Raises:\n",
              "    RuntimeError: If `model.evaluate` is wrapped in a `tf.function`.</pre>\n",
              "      <script>\n",
              "      if (google.colab.kernel.accessAllowed && google.colab.files && google.colab.files.view) {\n",
              "        for (const element of document.querySelectorAll('.filepath')) {\n",
              "          element.style.display = 'block'\n",
              "          element.onclick = (event) => {\n",
              "            event.preventDefault();\n",
              "            event.stopPropagation();\n",
              "            google.colab.files.view(element.textContent, 2117);\n",
              "          };\n",
              "        }\n",
              "      }\n",
              "      for (const element of document.querySelectorAll('.function-repr-contents')) {\n",
              "        element.onclick = (event) => {\n",
              "          event.preventDefault();\n",
              "          event.stopPropagation();\n",
              "          element.classList.toggle('function-repr-contents-collapsed');\n",
              "        };\n",
              "      }\n",
              "      </script>\n",
              "      </div>"
            ]
          },
          "metadata": {},
          "execution_count": 20
        }
      ],
      "source": [
        "model.evaluate(x_train, y_train)\n",
        "model.evaluate(x_train_scaled, y_train)\n",
        "model.evaluate"
      ]
    },
    {
      "cell_type": "code",
      "execution_count": 21,
      "metadata": {
        "colab": {
          "base_uri": "https://localhost:8080/"
        },
        "id": "bey4AM2HyjQa",
        "outputId": "b100f73b-939f-4172-ad55-482dc09c4ba3"
      },
      "outputs": [
        {
          "output_type": "stream",
          "name": "stdout",
          "text": [
            "Epoch 1/20\n",
            "32/32 [==============================] - 2s 20ms/step - loss: -150.6544 - accuracy: 0.3328 - val_loss: -1311.4880 - val_accuracy: 0.3330\n",
            "Epoch 2/20\n",
            "32/32 [==============================] - 1s 16ms/step - loss: -29177.4102 - accuracy: 0.3314 - val_loss: -150278.2344 - val_accuracy: 0.3336\n",
            "Epoch 3/20\n",
            "32/32 [==============================] - 0s 9ms/step - loss: -769117.1875 - accuracy: 0.3362 - val_loss: -2496117.5000 - val_accuracy: 0.3357\n",
            "Epoch 4/20\n",
            "32/32 [==============================] - 0s 12ms/step - loss: -8372916.0000 - accuracy: 0.3342 - val_loss: -19526628.0000 - val_accuracy: 0.3254\n",
            "Epoch 5/20\n",
            "32/32 [==============================] - 0s 9ms/step - loss: -41484060.0000 - accuracy: 0.3378 - val_loss: -82797416.0000 - val_accuracy: 0.3395\n",
            "Epoch 6/20\n",
            "32/32 [==============================] - 0s 9ms/step - loss: -145368192.0000 - accuracy: 0.3395 - val_loss: -262104912.0000 - val_accuracy: 0.3398\n",
            "Epoch 7/20\n",
            "32/32 [==============================] - 0s 9ms/step - loss: -395339712.0000 - accuracy: 0.3406 - val_loss: -636127168.0000 - val_accuracy: 0.3360\n",
            "Epoch 8/20\n",
            "32/32 [==============================] - 0s 9ms/step - loss: -875435264.0000 - accuracy: 0.3408 - val_loss: -1318282496.0000 - val_accuracy: 0.3405\n",
            "Epoch 9/20\n",
            "32/32 [==============================] - 0s 12ms/step - loss: -1689411072.0000 - accuracy: 0.3414 - val_loss: -2444583168.0000 - val_accuracy: 0.3401\n",
            "Epoch 10/20\n",
            "32/32 [==============================] - 0s 12ms/step - loss: -2978236928.0000 - accuracy: 0.3395 - val_loss: -4178315520.0000 - val_accuracy: 0.3409\n",
            "Epoch 11/20\n",
            "32/32 [==============================] - 0s 9ms/step - loss: -4934404608.0000 - accuracy: 0.3409 - val_loss: -6617132032.0000 - val_accuracy: 0.3408\n",
            "Epoch 12/20\n",
            "32/32 [==============================] - 0s 12ms/step - loss: -7699742208.0000 - accuracy: 0.3412 - val_loss: -10060732416.0000 - val_accuracy: 0.3412\n",
            "Epoch 13/20\n",
            "32/32 [==============================] - 0s 10ms/step - loss: -11358302208.0000 - accuracy: 0.3399 - val_loss: -14643401728.0000 - val_accuracy: 0.3380\n",
            "Epoch 14/20\n",
            "32/32 [==============================] - 0s 9ms/step - loss: -16238584832.0000 - accuracy: 0.3421 - val_loss: -20663824384.0000 - val_accuracy: 0.3404\n",
            "Epoch 15/20\n",
            "32/32 [==============================] - 0s 9ms/step - loss: -22533003264.0000 - accuracy: 0.3419 - val_loss: -28391919616.0000 - val_accuracy: 0.3414\n",
            "Epoch 16/20\n",
            "32/32 [==============================] - 0s 9ms/step - loss: -30425718784.0000 - accuracy: 0.3409 - val_loss: -37672943616.0000 - val_accuracy: 0.3401\n",
            "Epoch 17/20\n",
            "32/32 [==============================] - 0s 9ms/step - loss: -40013225984.0000 - accuracy: 0.3409 - val_loss: -49585553408.0000 - val_accuracy: 0.3424\n",
            "Epoch 18/20\n",
            "32/32 [==============================] - 0s 9ms/step - loss: -51663351808.0000 - accuracy: 0.3413 - val_loss: -62749184000.0000 - val_accuracy: 0.3409\n",
            "Epoch 19/20\n",
            "32/32 [==============================] - 0s 9ms/step - loss: -65322295296.0000 - accuracy: 0.3418 - val_loss: -78485684224.0000 - val_accuracy: 0.3409\n",
            "Epoch 20/20\n",
            "32/32 [==============================] - 0s 9ms/step - loss: -81392271360.0000 - accuracy: 0.3418 - val_loss: -97084243968.0000 - val_accuracy: 0.3412\n"
          ]
        },
        {
          "output_type": "execute_result",
          "data": {
            "text/plain": [
              "<keras.src.callbacks.History at 0x7cb34d688d90>"
            ]
          },
          "metadata": {},
          "execution_count": 21
        }
      ],
      "source": [
        "model.fit(x_train, y_train, batch_size=1024, epochs=20, validation_data=(x_temp, y_temp))\n"
      ]
    },
    {
      "cell_type": "code",
      "execution_count": 22,
      "metadata": {
        "colab": {
          "base_uri": "https://localhost:8080/"
        },
        "id": "MzE1eRXdkBrQ",
        "outputId": "f06cd55b-ab43-4d71-fdc3-9c3f7e3b3122"
      },
      "outputs": [
        {
          "output_type": "stream",
          "name": "stdout",
          "text": [
            "Epoch 1/20\n",
            "32/32 [==============================] - 0s 14ms/step - loss: -1017276608.0000 - accuracy: 0.3820 - val_loss: -1090741504.0000 - val_accuracy: 0.5125\n",
            "Epoch 2/20\n",
            "32/32 [==============================] - 0s 9ms/step - loss: -1156456448.0000 - accuracy: 0.5356 - val_loss: -1229328128.0000 - val_accuracy: 0.5437\n",
            "Epoch 3/20\n",
            "32/32 [==============================] - 0s 13ms/step - loss: -1301236480.0000 - accuracy: 0.5526 - val_loss: -1382003456.0000 - val_accuracy: 0.5550\n",
            "Epoch 4/20\n",
            "32/32 [==============================] - 0s 9ms/step - loss: -1460898176.0000 - accuracy: 0.5541 - val_loss: -1551528832.0000 - val_accuracy: 0.5574\n",
            "Epoch 5/20\n",
            "32/32 [==============================] - 0s 9ms/step - loss: -1637604736.0000 - accuracy: 0.5414 - val_loss: -1740239488.0000 - val_accuracy: 0.5120\n",
            "Epoch 6/20\n",
            "32/32 [==============================] - 0s 10ms/step - loss: -1834369664.0000 - accuracy: 0.5333 - val_loss: -1947279232.0000 - val_accuracy: 0.5493\n",
            "Epoch 7/20\n",
            "32/32 [==============================] - 0s 10ms/step - loss: -2049945728.0000 - accuracy: 0.5371 - val_loss: -2175290624.0000 - val_accuracy: 0.5530\n",
            "Epoch 8/20\n",
            "32/32 [==============================] - 0s 9ms/step - loss: -2285339136.0000 - accuracy: 0.5378 - val_loss: -2423601920.0000 - val_accuracy: 0.5422\n",
            "Epoch 9/20\n",
            "32/32 [==============================] - 0s 12ms/step - loss: -2541135616.0000 - accuracy: 0.5338 - val_loss: -2691579136.0000 - val_accuracy: 0.5554\n",
            "Epoch 10/20\n",
            "32/32 [==============================] - 0s 9ms/step - loss: -2817454336.0000 - accuracy: 0.5318 - val_loss: -2980758784.0000 - val_accuracy: 0.4265\n",
            "Epoch 11/20\n",
            "32/32 [==============================] - 0s 9ms/step - loss: -3115074560.0000 - accuracy: 0.5311 - val_loss: -3291483904.0000 - val_accuracy: 0.4335\n",
            "Epoch 12/20\n",
            "32/32 [==============================] - 0s 10ms/step - loss: -3435085312.0000 - accuracy: 0.5277 - val_loss: -3625359360.0000 - val_accuracy: 0.4370\n",
            "Epoch 13/20\n",
            "32/32 [==============================] - 0s 9ms/step - loss: -3778146816.0000 - accuracy: 0.5227 - val_loss: -3984770560.0000 - val_accuracy: 0.5488\n",
            "Epoch 14/20\n",
            "32/32 [==============================] - 0s 10ms/step - loss: -4147814912.0000 - accuracy: 0.5299 - val_loss: -4370078208.0000 - val_accuracy: 0.5238\n",
            "Epoch 15/20\n",
            "32/32 [==============================] - 0s 10ms/step - loss: -4544698368.0000 - accuracy: 0.5236 - val_loss: -4785246720.0000 - val_accuracy: 0.4656\n",
            "Epoch 16/20\n",
            "32/32 [==============================] - 0s 10ms/step - loss: -4970180096.0000 - accuracy: 0.5228 - val_loss: -5230813184.0000 - val_accuracy: 0.5224\n",
            "Epoch 17/20\n",
            "32/32 [==============================] - 0s 12ms/step - loss: -5425721344.0000 - accuracy: 0.5193 - val_loss: -5707201024.0000 - val_accuracy: 0.5472\n",
            "Epoch 18/20\n",
            "32/32 [==============================] - 0s 13ms/step - loss: -5914478592.0000 - accuracy: 0.5261 - val_loss: -6213409280.0000 - val_accuracy: 0.5109\n",
            "Epoch 19/20\n",
            "32/32 [==============================] - 0s 9ms/step - loss: -6435164672.0000 - accuracy: 0.5297 - val_loss: -6758792704.0000 - val_accuracy: 0.5436\n",
            "Epoch 20/20\n",
            "32/32 [==============================] - 0s 10ms/step - loss: -6993382400.0000 - accuracy: 0.5320 - val_loss: -7341596672.0000 - val_accuracy: 0.5450\n"
          ]
        },
        {
          "output_type": "execute_result",
          "data": {
            "text/plain": [
              "<keras.src.callbacks.History at 0x7cb33bfd58d0>"
            ]
          },
          "metadata": {},
          "execution_count": 22
        }
      ],
      "source": [
        "model.fit(x_train_scaled, y_train, batch_size=1024, epochs=20, validation_data=(x_temp_scaled, y_temp))"
      ]
    }
  ],
  "metadata": {
    "colab": {
      "provenance": [],
      "authorship_tag": "ABX9TyMhhRxq+Vet9WUZ6dx+W7na",
      "include_colab_link": true
    },
    "kernelspec": {
      "display_name": "Python 3",
      "name": "python3"
    },
    "language_info": {
      "name": "python"
    }
  },
  "nbformat": 4,
  "nbformat_minor": 0
}